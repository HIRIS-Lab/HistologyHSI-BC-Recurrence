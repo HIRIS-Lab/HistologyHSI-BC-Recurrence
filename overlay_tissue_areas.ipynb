{
  "nbformat": 4,
  "nbformat_minor": 0,
  "metadata": {
    "colab": {
      "provenance": []
    },
    "kernelspec": {
      "name": "python3",
      "display_name": "Python 3"
    },
    "language_info": {
      "name": "python"
    }
  },
  "cells": [
    {
      "cell_type": "code",
      "execution_count": null,
      "metadata": {
        "id": "QrutRxGjKzz7"
      },
      "outputs": [],
      "source": []
    },
    {
      "cell_type": "markdown",
      "source": [
        " Tutorial - Recommended histopathology WSI PROCESSING\n",
        "            Overlaying Tissue Compartment Annotations on a Slide Image of Patient 15"
      ],
      "metadata": {
        "id": "f1AQIdtUK2rL"
      }
    },
    {
      "cell_type": "code",
      "source": [],
      "metadata": {
        "id": "kq4WqzbhLjyT"
      },
      "execution_count": null,
      "outputs": []
    },
    {
      "cell_type": "markdown",
      "source": [
        "1) Setting up the environment and downloading the example data"
      ],
      "metadata": {
        "id": "w3YjYTmhLfxr"
      }
    },
    {
      "cell_type": "markdown",
      "source": [
        "Libraries:\n",
        "The libraries required for this notebook are Spectral Python (SPy), NumPy, SciPy, and Matplotlib.\n",
        "\n",
        "Openslide. Python module for reading whole-slide image formats. https://openslide.org/\n",
        "\n",
        "Spectral Python (SPy). Python module for hyperspectral image processing. https://www.spectralpython.net\n",
        "\n",
        "Harris, C.R., Millman, K.J., van der Walt, S.J. et al. Array programming with NumPy. Nature 585, 357–362 (2020). https://doi.org/10.1038/s41586-020-2649-2\n",
        "\n",
        "J. D. Hunter, \"Matplotlib: A 2D Graphics Environment,\" in Computing in Science & Engineering, vol. 9, no. 3, pp. 90-95, May-June 2007, doi: 10.1109/MCSE.2007.55.\n",
        "\n",
        "Virtanen, P., Gommers, R., Oliphant, T.E. et al. SciPy 1.0: fundamental algorithms for scientific computing in Python. Nat Methods 17, 261–272 (2020). https://doi.org/10.1038/s41592-019-0686-2\n",
        "\n",
        "Data:\n",
        "The data used on this notebook correspond to a folder containing histological and hyperspectral data from a breast histological slide from the HistologyHSI-BRCA-Recurrence dataset. The demographic and clinical data are stores as excel, the histological slide are stored as mrxs files and the hyperspectral cubes from the histological slide and the white and dark references are stored as ENVI files. The ENVI format is the concention for HSI data and it consists of a flat-binary raster file with an accompanying ASCII header file."
      ],
      "metadata": {
        "id": "Dq8I7IcRLa07"
      }
    },
    {
      "cell_type": "code",
      "source": [
        "# Install the Spectral Python (SPy) library\n",
        "!pip install spectral\n",
        "!pip install openslide-python\n",
        "!pip install openslide-bin"
      ],
      "metadata": {
        "colab": {
          "base_uri": "https://localhost:8080/"
        },
        "id": "j0iCGmXyL2N0",
        "outputId": "181f505b-6d1e-4b24-cc86-56a7d8109dc4"
      },
      "execution_count": 3,
      "outputs": [
        {
          "output_type": "stream",
          "name": "stdout",
          "text": [
            "Collecting spectral\n",
            "  Downloading spectral-0.23.1-py3-none-any.whl.metadata (1.3 kB)\n",
            "Requirement already satisfied: numpy in /usr/local/lib/python3.11/dist-packages (from spectral) (2.0.2)\n",
            "Downloading spectral-0.23.1-py3-none-any.whl (212 kB)\n",
            "\u001b[?25l   \u001b[90m━━━━━━━━━━━━━━━━━━━━━━━━━━━━━━━━━━━━━━━━\u001b[0m \u001b[32m0.0/212.9 kB\u001b[0m \u001b[31m?\u001b[0m eta \u001b[36m-:--:--\u001b[0m\r\u001b[2K   \u001b[91m━━━━━━━━━━━━━━━━━━━━━━━━━━━━━━━━━━━━━━\u001b[0m\u001b[90m╺\u001b[0m\u001b[90m━\u001b[0m \u001b[32m204.8/212.9 kB\u001b[0m \u001b[31m7.0 MB/s\u001b[0m eta \u001b[36m0:00:01\u001b[0m\r\u001b[2K   \u001b[90m━━━━━━━━━━━━━━━━━━━━━━━━━━━━━━━━━━━━━━━━\u001b[0m \u001b[32m212.9/212.9 kB\u001b[0m \u001b[31m5.1 MB/s\u001b[0m eta \u001b[36m0:00:00\u001b[0m\n",
            "\u001b[?25hInstalling collected packages: spectral\n",
            "Successfully installed spectral-0.23.1\n",
            "Collecting openslide-python\n",
            "  Downloading openslide_python-1.4.1-cp311-abi3-manylinux_2_5_x86_64.manylinux1_x86_64.whl.metadata (4.3 kB)\n",
            "Requirement already satisfied: Pillow in /usr/local/lib/python3.11/dist-packages (from openslide-python) (11.1.0)\n",
            "Downloading openslide_python-1.4.1-cp311-abi3-manylinux_2_5_x86_64.manylinux1_x86_64.whl (33 kB)\n",
            "Installing collected packages: openslide-python\n",
            "Successfully installed openslide-python-1.4.1\n",
            "Collecting openslide-bin\n",
            "  Downloading openslide_bin-4.0.0.6-py3-none-manylinux_2_28_x86_64.whl.metadata (4.4 kB)\n",
            "Downloading openslide_bin-4.0.0.6-py3-none-manylinux_2_28_x86_64.whl (4.3 MB)\n",
            "\u001b[2K   \u001b[90m━━━━━━━━━━━━━━━━━━━━━━━━━━━━━━━━━━━━━━━━\u001b[0m \u001b[32m4.3/4.3 MB\u001b[0m \u001b[31m52.7 MB/s\u001b[0m eta \u001b[36m0:00:00\u001b[0m\n",
            "\u001b[?25hInstalling collected packages: openslide-bin\n",
            "Successfully installed openslide-bin-4.0.0.6\n"
          ]
        }
      ]
    },
    {
      "cell_type": "code",
      "source": [
        "!wget -O downloaded_file.zip 'https://nimbus.iuma.ulpgc.es/s/JaxL6Rb4G74Wz6x/download'\n",
        "!unzip downloaded_file.zip && rm downloaded_file.zip"
      ],
      "metadata": {
        "colab": {
          "base_uri": "https://localhost:8080/"
        },
        "id": "KvktXrIsLCFL",
        "outputId": "4b571ba3-c641-400c-901c-e506524f05b3"
      },
      "execution_count": 2,
      "outputs": [
        {
          "output_type": "stream",
          "name": "stdout",
          "text": [
            "--2025-03-24 17:17:54--  https://nimbus.iuma.ulpgc.es/s/JaxL6Rb4G74Wz6x/download\n",
            "Resolving nimbus.iuma.ulpgc.es (nimbus.iuma.ulpgc.es)... 193.145.147.66\n",
            "Connecting to nimbus.iuma.ulpgc.es (nimbus.iuma.ulpgc.es)|193.145.147.66|:443... connected.\n",
            "HTTP request sent, awaiting response... 200 OK\n",
            "Length: unspecified [application/zip]\n",
            "Saving to: ‘downloaded_file.zip’\n",
            "\n",
            "downloaded_file.zip     [               <=>  ]   2.80G  11.9MB/s    in 4m 4s   \n",
            "\n",
            "2025-03-24 17:21:59 (11.7 MB/s) - ‘downloaded_file.zip’ saved [3007677160]\n",
            "\n",
            "Archive:  downloaded_file.zip\n",
            "   creating: Scientific Data/\n",
            " extracting: Scientific Data/00_01_Clinical_Demographic_Data.xlsx  \n",
            "   creating: Scientific Data/01_01_Histological_Images/\n",
            "   creating: Scientific Data/01_01_Histological_Images/15_07B3634/\n",
            " extracting: Scientific Data/01_01_Histological_Images/15_07B3634/Data0000.dat  \n",
            " extracting: Scientific Data/01_01_Histological_Images/15_07B3634/Data0001.dat  \n",
            " extracting: Scientific Data/01_01_Histological_Images/15_07B3634/Data0002.dat  \n",
            " extracting: Scientific Data/01_01_Histological_Images/15_07B3634/Data0003.dat  \n",
            " extracting: Scientific Data/01_01_Histological_Images/15_07B3634/Data0004.dat  \n",
            " extracting: Scientific Data/01_01_Histological_Images/15_07B3634/Data0005.dat  \n",
            " extracting: Scientific Data/01_01_Histological_Images/15_07B3634/Data0006.dat  \n",
            " extracting: Scientific Data/01_01_Histological_Images/15_07B3634/Data0007.dat  \n",
            " extracting: Scientific Data/01_01_Histological_Images/15_07B3634/Data0008.dat  \n",
            " extracting: Scientific Data/01_01_Histological_Images/15_07B3634/Data0009.dat  \n",
            " extracting: Scientific Data/01_01_Histological_Images/15_07B3634/Data0010.dat  \n",
            " extracting: Scientific Data/01_01_Histological_Images/15_07B3634/Data0011.dat  \n",
            " extracting: Scientific Data/01_01_Histological_Images/15_07B3634/Data0012.dat  \n",
            " extracting: Scientific Data/01_01_Histological_Images/15_07B3634/Data0013.dat  \n",
            " extracting: Scientific Data/01_01_Histological_Images/15_07B3634/Data0014.dat  \n",
            " extracting: Scientific Data/01_01_Histological_Images/15_07B3634/Data0015.dat  \n",
            " extracting: Scientific Data/01_01_Histological_Images/15_07B3634/Data0016.dat  \n",
            " extracting: Scientific Data/01_01_Histological_Images/15_07B3634/Data0017.dat  \n",
            " extracting: Scientific Data/01_01_Histological_Images/15_07B3634/Data0018.dat  \n",
            " extracting: Scientific Data/01_01_Histological_Images/15_07B3634/Data0019.dat  \n",
            " extracting: Scientific Data/01_01_Histological_Images/15_07B3634/Data0020.dat  \n",
            " extracting: Scientific Data/01_01_Histological_Images/15_07B3634/Data0021.dat  \n",
            " extracting: Scientific Data/01_01_Histological_Images/15_07B3634/Data0022.dat  \n",
            " extracting: Scientific Data/01_01_Histological_Images/15_07B3634/Data0023.dat  \n",
            " extracting: Scientific Data/01_01_Histological_Images/15_07B3634/Index.dat  \n",
            " extracting: Scientific Data/01_01_Histological_Images/15_07B3634/Slidedat.ini  \n",
            " extracting: Scientific Data/01_01_Histological_Images/15_07B3634.mrxs  \n",
            "   creating: Scientific Data/01_02_Tissue_Annotations/\n",
            " extracting: Scientific Data/01_02_Tissue_Annotations/15.geojson  \n",
            "   creating: Scientific Data/01_03_HSI ROI_Annotations/\n",
            " extracting: Scientific Data/01_03_HSI ROI_Annotations/15.geojson  \n",
            "   creating: Scientific Data/02_01_HSI_Images/\n",
            "   creating: Scientific Data/02_01_HSI_Images/IDC/\n",
            "   creating: Scientific Data/02_01_HSI_Images/IDC/HS_VNIR_15_IDC_x10_C01/\n",
            " extracting: Scientific Data/02_01_HSI_Images/IDC/HS_VNIR_15_IDC_x10_C01/RGBImage.png  \n",
            " extracting: Scientific Data/02_01_HSI_Images/IDC/HS_VNIR_15_IDC_x10_C01/SyntheticRGBImage.png  \n",
            " extracting: Scientific Data/02_01_HSI_Images/IDC/HS_VNIR_15_IDC_x10_C01/calibrated.dat  \n",
            " extracting: Scientific Data/02_01_HSI_Images/IDC/HS_VNIR_15_IDC_x10_C01/calibrated.hdr  \n",
            " extracting: Scientific Data/02_01_HSI_Images/IDC/HS_VNIR_15_IDC_x10_C01/darkReference.dat  \n",
            " extracting: Scientific Data/02_01_HSI_Images/IDC/HS_VNIR_15_IDC_x10_C01/darkReference.hdr  \n",
            " extracting: Scientific Data/02_01_HSI_Images/IDC/HS_VNIR_15_IDC_x10_C01/raw.dat  \n",
            " extracting: Scientific Data/02_01_HSI_Images/IDC/HS_VNIR_15_IDC_x10_C01/raw.hdr  \n",
            " extracting: Scientific Data/02_01_HSI_Images/IDC/HS_VNIR_15_IDC_x10_C01/whiteReference.dat  \n",
            " extracting: Scientific Data/02_01_HSI_Images/IDC/HS_VNIR_15_IDC_x10_C01/whiteReference.hdr  \n"
          ]
        }
      ]
    },
    {
      "cell_type": "code",
      "source": [
        "import os\n",
        "import json\n",
        "import openslide\n",
        "from PIL import Image, ImageDraw"
      ],
      "metadata": {
        "id": "fZo7FNBuK5UD"
      },
      "execution_count": 4,
      "outputs": []
    },
    {
      "cell_type": "code",
      "source": [
        "FILE_PATH = '/content/Scientific Data/01_01_Histological_Images/15_07B3634.mrxs'\n",
        "FILE_ANNOTATION = '/content/Scientific Data/01_02_Tissue_Annotations/15.geojson' # Este es el geoJSON de los tejidos\n",
        "LEVEL = 7 # Selected the level from the slide\n",
        "CASES = ['in situ carcinoma', 'infiltrant carcinoma', 'normal tissue'] # Cases types"
      ],
      "metadata": {
        "id": "S9aGsdu3K9Fb"
      },
      "execution_count": null,
      "outputs": []
    },
    {
      "cell_type": "code",
      "source": [
        "selected_image = openslide.OpenSlide(FILE_PATH) # Load the slide using OpenSlide\n",
        "\n",
        "LEVEL_DOWNSAMPLE = int(selected_image.level_downsamples[LEVEL]) # Downsample factor of the selected level\n",
        "\n",
        "# The X coordinate of the rectangle bounding the non-empty region of the slide\n",
        "shift_x = selected_image.properties['openslide.bounds-x']\n",
        "shift_x = int(shift_x)\n",
        "# The Y coordinate of the rectangle bounding the non-empty region of the slide\n",
        "shift_y = selected_image.properties['openslide.bounds-y']\n",
        "shift_y = int(shift_y)"
      ],
      "metadata": {
        "id": "VSDh-gCQLGhc"
      },
      "execution_count": null,
      "outputs": []
    },
    {
      "cell_type": "code",
      "source": [
        "# Load the GeoJSON file\n",
        "geojson_data = \"\"\n",
        "with open(FILE_ANNOTATION, \"r\") as file:\n",
        "    geojson_data = json.load(file)\n",
        "\n",
        "# Extract the annotations\n",
        "mfeatures = geojson_data['features']\n",
        "\n",
        "# Prepare the annotations in a list where we select for each of them the coordinates and the case type\n",
        "list_annotations = []\n",
        "for mannotation in mfeatures:\n",
        "    list_annotations.append([mannotation['geometry']['coordinates'][0], mannotation['properties']['classification']['name']])"
      ],
      "metadata": {
        "id": "s5VcGhnKLJzT"
      },
      "execution_count": null,
      "outputs": []
    },
    {
      "cell_type": "code",
      "source": [
        "# The height of the rectangle bounding the non-empty region of the slide at level LEVEL\n",
        "bh_LEVEL_DOWNSAMPLE = int(selected_image.properties['openslide.bounds-height'])//LEVEL_DOWNSAMPLE\n",
        "# The width of the rectangle bounding the non-empty region of the slide at level LEVEL\n",
        "bw_LEVEL_DOWNSAMPLE = int(selected_image.properties['openslide.bounds-width'])//LEVEL_DOWNSAMPLE\n",
        "\n",
        "# Compute the annotations at level LEVEL\n",
        "list_annotations_downsample = []\n",
        "for mannotation in list_annotations:\n",
        "    mannnotation_coordinates = [[x/LEVEL_DOWNSAMPLE, y/LEVEL_DOWNSAMPLE] for [x, y] in mannotation[0]]\n",
        "    list_annotations_downsample.append([mannnotation_coordinates, mannotation[1]])"
      ],
      "metadata": {
        "id": "cmmphqmKLMeb"
      },
      "execution_count": null,
      "outputs": []
    },
    {
      "cell_type": "code",
      "source": [
        "# Extract the rectangle bounding the non-empty region of the slide at level LEVEL\n",
        "bounding_box = selected_image.read_region(location=(shift_x, shift_y), level=LEVEL, size=(bw_LEVEL_DOWNSAMPLE, bh_LEVEL_DOWNSAMPLE))\n",
        "bounding_box = bounding_box.convert(\"RGBA\")"
      ],
      "metadata": {
        "id": "re7G8MEjLOvy"
      },
      "execution_count": null,
      "outputs": []
    },
    {
      "cell_type": "code",
      "source": [
        "# Create a transparent overlay image\n",
        "overlay = Image.new(\"RGBA\", bounding_box.size, (0, 0, 0, 0))\n",
        "draw = ImageDraw.Draw(overlay)\n",
        "\n",
        "# Define annotation colors based on CASES\n",
        "annotation_colors = {\n",
        "    CASES[0]: (255, 0, 0, 100),    # Red with transparency\n",
        "    CASES[1]: (0, 0, 255, 100),    # Blue with transparency\n",
        "    CASES[2]: (0, 255, 0, 100)     # Green with transparency\n",
        "}\n",
        "\n",
        "# Draw semi-transparent contours on the overlay\n",
        "for annotation in list_annotations:\n",
        "    coordinates = [(x / LEVEL_DOWNSAMPLE, y / LEVEL_DOWNSAMPLE) for x, y in annotation[0]]\n",
        "    annotation_type = annotation[1]  # This will match CASES[0], CASES[1], or CASES[2]\n",
        "\n",
        "    # Get the corresponding color\n",
        "    color = annotation_colors.get(annotation_type, (255, 255, 255, 100))  # Default: white with transparency\n",
        "\n",
        "    # Draw the contour as a semi-transparent polygon\n",
        "    draw.polygon(coordinates, outline=color, fill=color)\n",
        "\n",
        "# Blend the overlay with the slide at level LEVEL\n",
        "final_image = Image.alpha_composite(bounding_box, overlay)"
      ],
      "metadata": {
        "id": "iXZe2ig1K6Qj"
      },
      "execution_count": null,
      "outputs": []
    },
    {
      "cell_type": "code",
      "source": [
        "# Save the result\n",
        "final_image.save(\"overlay_tissues_15.png\")"
      ],
      "metadata": {
        "id": "vdGavh5rLTUb"
      },
      "execution_count": null,
      "outputs": []
    }
  ]
}